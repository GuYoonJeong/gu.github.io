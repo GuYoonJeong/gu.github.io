{
  "nbformat": 4,
  "nbformat_minor": 5,
  "metadata": {
    "kernelspec": {
      "display_name": "Python 3",
      "language": "python",
      "name": "python3"
    },
    "language_info": {
      "codemirror_mode": {
        "name": "ipython",
        "version": 3
      },
      "file_extension": ".py",
      "mimetype": "text/x-python",
      "name": "python",
      "nbconvert_exporter": "python",
      "pygments_lexer": "ipython3",
      "version": "3.7.10"
    },
    "colab": {
      "name": "4_MachineLearning_Model_Evaluation_Classification_완성본.ipynb",
      "provenance": [],
      "collapsed_sections": [],
      "include_colab_link": true
    }
  },
  "cells": [
    {
      "cell_type": "markdown",
      "metadata": {
        "id": "view-in-github",
        "colab_type": "text"
      },
      "source": [
        "<a href=\"https://colab.research.google.com/github/GuYoonJeong/gu.github.io/blob/main/4_MachineLearning_Model_Evaluation_Classification.ipynb\" target=\"_parent\"><img src=\"https://colab.research.google.com/assets/colab-badge.svg\" alt=\"Open In Colab\"/></a>"
      ]
    },
    {
      "cell_type": "code",
      "metadata": {
        "id": "recreational-momentum"
      },
      "source": [
        "# 데이터 구조\n",
        "import pandas as pd\n",
        "\n",
        "# 데이터 시각화\n",
        "import matplotlib.pyplot as plt\n",
        "import matplotlib as mpl\n",
        "\n",
        "# 데이터 분할: train, test\n",
        "from sklearn.model_selection import train_test_split\n",
        "\n",
        "# 의사결정나무\n",
        "from sklearn.tree import DecisionTreeClassifier\n",
        "\n",
        "# 랜덤 포레스트\n",
        "from sklearn.ensemble import RandomForestClassifier\n",
        "\n",
        "# Gradient Boosting\n",
        "from sklearn.ensemble import GradientBoostingClassifier\n",
        "\n",
        "# xgboost\n",
        "import xgboost as xgb\n",
        "\n",
        "# 모델 성능 평가 : F1 Socre, ROC Cureve, AUC\n",
        "from sklearn.metrics import f1_score, roc_curve, roc_auc_score"
      ],
      "id": "recreational-momentum",
      "execution_count": null,
      "outputs": []
    },
    {
      "cell_type": "code",
      "metadata": {
        "id": "exceptional-block"
      },
      "source": [
        "# 한글 맑은 고딕 적용\n",
        "mpl.rc(\"font\", family = \"Malgun Gothic\")\n",
        "# 음수값 표시\n",
        "mpl.rc('axes', unicode_minus = False)"
      ],
      "id": "exceptional-block",
      "execution_count": null,
      "outputs": []
    },
    {
      "cell_type": "code",
      "metadata": {
        "id": "rental-practice",
        "outputId": "14501e73-3231-4529-bfc5-188f9c8c11d3"
      },
      "source": [
        "df_raw = pd.read_csv(\"../data/bank.csv\")\n",
        "df_raw.head()"
      ],
      "id": "rental-practice",
      "execution_count": null,
      "outputs": [
        {
          "data": {
            "text/html": [
              "<div>\n",
              "<style scoped>\n",
              "    .dataframe tbody tr th:only-of-type {\n",
              "        vertical-align: middle;\n",
              "    }\n",
              "\n",
              "    .dataframe tbody tr th {\n",
              "        vertical-align: top;\n",
              "    }\n",
              "\n",
              "    .dataframe thead th {\n",
              "        text-align: right;\n",
              "    }\n",
              "</style>\n",
              "<table border=\"1\" class=\"dataframe\">\n",
              "  <thead>\n",
              "    <tr style=\"text-align: right;\">\n",
              "      <th></th>\n",
              "      <th>BAD</th>\n",
              "      <th>LOAN</th>\n",
              "      <th>MORTDUE</th>\n",
              "      <th>VALUE</th>\n",
              "      <th>REASON</th>\n",
              "      <th>JOB</th>\n",
              "      <th>YOJ</th>\n",
              "      <th>DEROG</th>\n",
              "      <th>DELINQ</th>\n",
              "      <th>CLAGE</th>\n",
              "      <th>NINQ</th>\n",
              "      <th>CLNO</th>\n",
              "      <th>DEBTINC</th>\n",
              "    </tr>\n",
              "  </thead>\n",
              "  <tbody>\n",
              "    <tr>\n",
              "      <th>0</th>\n",
              "      <td>1</td>\n",
              "      <td>1700</td>\n",
              "      <td>30548</td>\n",
              "      <td>40320.0</td>\n",
              "      <td>HomeImp</td>\n",
              "      <td>Other</td>\n",
              "      <td>9.0</td>\n",
              "      <td>0</td>\n",
              "      <td>0.0</td>\n",
              "      <td>101.466002</td>\n",
              "      <td>1.0</td>\n",
              "      <td>8</td>\n",
              "      <td>37.113614</td>\n",
              "    </tr>\n",
              "    <tr>\n",
              "      <th>1</th>\n",
              "      <td>1</td>\n",
              "      <td>1800</td>\n",
              "      <td>28502</td>\n",
              "      <td>43034.0</td>\n",
              "      <td>HomeImp</td>\n",
              "      <td>Other</td>\n",
              "      <td>11.0</td>\n",
              "      <td>0</td>\n",
              "      <td>0.0</td>\n",
              "      <td>88.766030</td>\n",
              "      <td>0.0</td>\n",
              "      <td>8</td>\n",
              "      <td>36.884894</td>\n",
              "    </tr>\n",
              "    <tr>\n",
              "      <th>2</th>\n",
              "      <td>0</td>\n",
              "      <td>2300</td>\n",
              "      <td>102370</td>\n",
              "      <td>120953.0</td>\n",
              "      <td>HomeImp</td>\n",
              "      <td>Office</td>\n",
              "      <td>2.0</td>\n",
              "      <td>0</td>\n",
              "      <td>0.0</td>\n",
              "      <td>90.992533</td>\n",
              "      <td>0.0</td>\n",
              "      <td>13</td>\n",
              "      <td>31.588503</td>\n",
              "    </tr>\n",
              "    <tr>\n",
              "      <th>3</th>\n",
              "      <td>1</td>\n",
              "      <td>2400</td>\n",
              "      <td>34863</td>\n",
              "      <td>47471.0</td>\n",
              "      <td>HomeImp</td>\n",
              "      <td>Mgr</td>\n",
              "      <td>12.0</td>\n",
              "      <td>0</td>\n",
              "      <td>0.0</td>\n",
              "      <td>70.491080</td>\n",
              "      <td>1.0</td>\n",
              "      <td>21</td>\n",
              "      <td>38.263601</td>\n",
              "    </tr>\n",
              "    <tr>\n",
              "      <th>4</th>\n",
              "      <td>0</td>\n",
              "      <td>2400</td>\n",
              "      <td>98449</td>\n",
              "      <td>117195.0</td>\n",
              "      <td>HomeImp</td>\n",
              "      <td>Office</td>\n",
              "      <td>4.0</td>\n",
              "      <td>0</td>\n",
              "      <td>0.0</td>\n",
              "      <td>93.811775</td>\n",
              "      <td>0.0</td>\n",
              "      <td>13</td>\n",
              "      <td>29.681827</td>\n",
              "    </tr>\n",
              "  </tbody>\n",
              "</table>\n",
              "</div>"
            ],
            "text/plain": [
              "   BAD  LOAN  MORTDUE     VALUE   REASON     JOB   YOJ  DEROG  DELINQ  \\\n",
              "0    1  1700    30548   40320.0  HomeImp   Other   9.0      0     0.0   \n",
              "1    1  1800    28502   43034.0  HomeImp   Other  11.0      0     0.0   \n",
              "2    0  2300   102370  120953.0  HomeImp  Office   2.0      0     0.0   \n",
              "3    1  2400    34863   47471.0  HomeImp     Mgr  12.0      0     0.0   \n",
              "4    0  2400    98449  117195.0  HomeImp  Office   4.0      0     0.0   \n",
              "\n",
              "        CLAGE  NINQ  CLNO    DEBTINC  \n",
              "0  101.466002   1.0     8  37.113614  \n",
              "1   88.766030   0.0     8  36.884894  \n",
              "2   90.992533   0.0    13  31.588503  \n",
              "3   70.491080   1.0    21  38.263601  \n",
              "4   93.811775   0.0    13  29.681827  "
            ]
          },
          "execution_count": 3,
          "metadata": {},
          "output_type": "execute_result"
        }
      ]
    },
    {
      "cell_type": "code",
      "metadata": {
        "id": "accepted-disaster"
      },
      "source": [
        "# 결측치 확인\n",
        "df_raw.isnull().sum(axis = 0)\n",
        "# JOB 변수의 결측치는 \"Other\"로 대체\n",
        "df_raw[\"JOB\"].fillna(\"Other\", inplace = True)\n",
        "# 숫자형 변수의 결측치는 해당 변수의 평균값으로 대체\n",
        "df_raw.fillna(df_raw.mean(), inplace=True)"
      ],
      "id": "accepted-disaster",
      "execution_count": null,
      "outputs": []
    },
    {
      "cell_type": "code",
      "metadata": {
        "id": "impossible-theorem",
        "outputId": "8288315b-cbd7-4c7d-bc5a-10e832a18dd9"
      },
      "source": [
        "# get_dummies: 데이터의 문자형 변수에 대한 더미변수 생성 \n",
        "df_raw_dummy = pd.get_dummies(df_raw)\n",
        "# 더미변수 생성된 데이터의 상위 5개 row를 확인\n",
        "df_raw_dummy.head()"
      ],
      "id": "impossible-theorem",
      "execution_count": null,
      "outputs": [
        {
          "data": {
            "text/html": [
              "<div>\n",
              "<style scoped>\n",
              "    .dataframe tbody tr th:only-of-type {\n",
              "        vertical-align: middle;\n",
              "    }\n",
              "\n",
              "    .dataframe tbody tr th {\n",
              "        vertical-align: top;\n",
              "    }\n",
              "\n",
              "    .dataframe thead th {\n",
              "        text-align: right;\n",
              "    }\n",
              "</style>\n",
              "<table border=\"1\" class=\"dataframe\">\n",
              "  <thead>\n",
              "    <tr style=\"text-align: right;\">\n",
              "      <th></th>\n",
              "      <th>BAD</th>\n",
              "      <th>LOAN</th>\n",
              "      <th>MORTDUE</th>\n",
              "      <th>VALUE</th>\n",
              "      <th>YOJ</th>\n",
              "      <th>DEROG</th>\n",
              "      <th>DELINQ</th>\n",
              "      <th>CLAGE</th>\n",
              "      <th>NINQ</th>\n",
              "      <th>CLNO</th>\n",
              "      <th>DEBTINC</th>\n",
              "      <th>REASON_DebtCon</th>\n",
              "      <th>REASON_HomeImp</th>\n",
              "      <th>JOB_Mgr</th>\n",
              "      <th>JOB_Office</th>\n",
              "      <th>JOB_Other</th>\n",
              "      <th>JOB_ProfExe</th>\n",
              "      <th>JOB_Sales</th>\n",
              "      <th>JOB_Self</th>\n",
              "    </tr>\n",
              "  </thead>\n",
              "  <tbody>\n",
              "    <tr>\n",
              "      <th>0</th>\n",
              "      <td>1</td>\n",
              "      <td>1700</td>\n",
              "      <td>30548</td>\n",
              "      <td>40320.0</td>\n",
              "      <td>9.0</td>\n",
              "      <td>0</td>\n",
              "      <td>0.0</td>\n",
              "      <td>101.466002</td>\n",
              "      <td>1.0</td>\n",
              "      <td>8</td>\n",
              "      <td>37.113614</td>\n",
              "      <td>0</td>\n",
              "      <td>1</td>\n",
              "      <td>0</td>\n",
              "      <td>0</td>\n",
              "      <td>1</td>\n",
              "      <td>0</td>\n",
              "      <td>0</td>\n",
              "      <td>0</td>\n",
              "    </tr>\n",
              "    <tr>\n",
              "      <th>1</th>\n",
              "      <td>1</td>\n",
              "      <td>1800</td>\n",
              "      <td>28502</td>\n",
              "      <td>43034.0</td>\n",
              "      <td>11.0</td>\n",
              "      <td>0</td>\n",
              "      <td>0.0</td>\n",
              "      <td>88.766030</td>\n",
              "      <td>0.0</td>\n",
              "      <td>8</td>\n",
              "      <td>36.884894</td>\n",
              "      <td>0</td>\n",
              "      <td>1</td>\n",
              "      <td>0</td>\n",
              "      <td>0</td>\n",
              "      <td>1</td>\n",
              "      <td>0</td>\n",
              "      <td>0</td>\n",
              "      <td>0</td>\n",
              "    </tr>\n",
              "    <tr>\n",
              "      <th>2</th>\n",
              "      <td>0</td>\n",
              "      <td>2300</td>\n",
              "      <td>102370</td>\n",
              "      <td>120953.0</td>\n",
              "      <td>2.0</td>\n",
              "      <td>0</td>\n",
              "      <td>0.0</td>\n",
              "      <td>90.992533</td>\n",
              "      <td>0.0</td>\n",
              "      <td>13</td>\n",
              "      <td>31.588503</td>\n",
              "      <td>0</td>\n",
              "      <td>1</td>\n",
              "      <td>0</td>\n",
              "      <td>1</td>\n",
              "      <td>0</td>\n",
              "      <td>0</td>\n",
              "      <td>0</td>\n",
              "      <td>0</td>\n",
              "    </tr>\n",
              "    <tr>\n",
              "      <th>3</th>\n",
              "      <td>1</td>\n",
              "      <td>2400</td>\n",
              "      <td>34863</td>\n",
              "      <td>47471.0</td>\n",
              "      <td>12.0</td>\n",
              "      <td>0</td>\n",
              "      <td>0.0</td>\n",
              "      <td>70.491080</td>\n",
              "      <td>1.0</td>\n",
              "      <td>21</td>\n",
              "      <td>38.263601</td>\n",
              "      <td>0</td>\n",
              "      <td>1</td>\n",
              "      <td>1</td>\n",
              "      <td>0</td>\n",
              "      <td>0</td>\n",
              "      <td>0</td>\n",
              "      <td>0</td>\n",
              "      <td>0</td>\n",
              "    </tr>\n",
              "    <tr>\n",
              "      <th>4</th>\n",
              "      <td>0</td>\n",
              "      <td>2400</td>\n",
              "      <td>98449</td>\n",
              "      <td>117195.0</td>\n",
              "      <td>4.0</td>\n",
              "      <td>0</td>\n",
              "      <td>0.0</td>\n",
              "      <td>93.811775</td>\n",
              "      <td>0.0</td>\n",
              "      <td>13</td>\n",
              "      <td>29.681827</td>\n",
              "      <td>0</td>\n",
              "      <td>1</td>\n",
              "      <td>0</td>\n",
              "      <td>1</td>\n",
              "      <td>0</td>\n",
              "      <td>0</td>\n",
              "      <td>0</td>\n",
              "      <td>0</td>\n",
              "    </tr>\n",
              "  </tbody>\n",
              "</table>\n",
              "</div>"
            ],
            "text/plain": [
              "   BAD  LOAN  MORTDUE     VALUE   YOJ  DEROG  DELINQ       CLAGE  NINQ  CLNO  \\\n",
              "0    1  1700    30548   40320.0   9.0      0     0.0  101.466002   1.0     8   \n",
              "1    1  1800    28502   43034.0  11.0      0     0.0   88.766030   0.0     8   \n",
              "2    0  2300   102370  120953.0   2.0      0     0.0   90.992533   0.0    13   \n",
              "3    1  2400    34863   47471.0  12.0      0     0.0   70.491080   1.0    21   \n",
              "4    0  2400    98449  117195.0   4.0      0     0.0   93.811775   0.0    13   \n",
              "\n",
              "     DEBTINC  REASON_DebtCon  REASON_HomeImp  JOB_Mgr  JOB_Office  JOB_Other  \\\n",
              "0  37.113614               0               1        0           0          1   \n",
              "1  36.884894               0               1        0           0          1   \n",
              "2  31.588503               0               1        0           1          0   \n",
              "3  38.263601               0               1        1           0          0   \n",
              "4  29.681827               0               1        0           1          0   \n",
              "\n",
              "   JOB_ProfExe  JOB_Sales  JOB_Self  \n",
              "0            0          0         0  \n",
              "1            0          0         0  \n",
              "2            0          0         0  \n",
              "3            0          0         0  \n",
              "4            0          0         0  "
            ]
          },
          "execution_count": 5,
          "metadata": {},
          "output_type": "execute_result"
        }
      ]
    },
    {
      "cell_type": "code",
      "metadata": {
        "id": "painted-firewall"
      },
      "source": [
        "# 설명변수, 목표변수 분리\n",
        "df_raw_x = df_raw_dummy.drop(\"BAD\", axis =1, inplace =False)\n",
        "df_raw_y =df_raw_dummy[\"BAD\"]"
      ],
      "id": "painted-firewall",
      "execution_count": null,
      "outputs": []
    },
    {
      "cell_type": "code",
      "metadata": {
        "id": "brave-death",
        "outputId": "b2b59cd8-dbba-4bc1-f536-e2d0920b564d"
      },
      "source": [
        "# 학습용/평가용 데이터 분리\n",
        "df_train_x, df_test_x, df_train_y, df_test_y = train_test_split(df_raw_x, df_raw_y, test_size = 0.3, random_state = 1234)\n",
        "\n",
        "print(\"학습용 데이터의 X 크기 : {}\".format(df_train_x.shape))\n",
        "print(\"학습용 데이터의 Y 크기 : {}\".format(df_train_y.shape))\n",
        "print(\"평가용 데이터의 X 크기 : {}\".format(df_test_x.shape))\n",
        "print(\"평가용 데이터의 Y 크기 : {}\".format(df_test_y.shape))"
      ],
      "id": "brave-death",
      "execution_count": null,
      "outputs": [
        {
          "name": "stdout",
          "output_type": "stream",
          "text": [
            "학습용 데이터의 X 크기 : (2623, 18)\n",
            "학습용 데이터의 Y 크기 : (2623,)\n",
            "평가용 데이터의 X 크기 : (1125, 18)\n",
            "평가용 데이터의 Y 크기 : (1125,)\n"
          ]
        }
      ]
    },
    {
      "cell_type": "code",
      "metadata": {
        "id": "overhead-remedy"
      },
      "source": [
        "# 모델 분석\n",
        "model = [\"DecisionTree\", \"RandomForest\",\"GradientBoosting\", \"XGboost\" ]\n",
        "# 정확도 저장\n",
        "train_accuracy =[] ; test_accuracy =[]\n",
        "# fl score 저장\n",
        "model_f1_score =[]\n",
        "# auc 스코어 저장\n",
        "model_auc=[]"
      ],
      "id": "overhead-remedy",
      "execution_count": null,
      "outputs": []
    },
    {
      "cell_type": "markdown",
      "metadata": {
        "id": "intermediate-philippines"
      },
      "source": [
        "## 의사결정나무모델"
      ],
      "id": "intermediate-philippines"
    },
    {
      "cell_type": "code",
      "metadata": {
        "id": "silver-power"
      },
      "source": [
        "# 모델 생성\n",
        "dt_model = DecisionTreeClassifier(max_depth=4, min_samples_leaf=30)\n",
        "dt_model.fit(df_train_x, df_train_y)\n",
        "\n",
        "# train 정확도\n",
        "train_accuracy.append(dt_model.score(df_train_x, df_train_y))\n",
        "# test 정확도\n",
        "test_accuracy.append(dt_model.score(df_test_x, df_test_y))\n",
        "\n",
        "# 예측값\n",
        "y_pred =dt_model.predict(df_test_x)\n",
        "\n",
        "# roc_auc 계산\n",
        "roc_auc = roc_auc_score(df_test_y, y_pred)\n",
        "# auc 저장\n",
        "model_auc.append(roc_auc)\n",
        "# f1 스코어\n",
        "model_f1_score.append(f1_score(df_test_y, y_pred))\n"
      ],
      "id": "silver-power",
      "execution_count": null,
      "outputs": []
    },
    {
      "cell_type": "markdown",
      "metadata": {
        "id": "fifteen-justice"
      },
      "source": [
        "## 랜덤포레스트 모델"
      ],
      "id": "fifteen-justice"
    },
    {
      "cell_type": "code",
      "metadata": {
        "id": "extraordinary-telescope"
      },
      "source": [
        "# 모델 생성\n",
        "rf_model = RandomForestClassifier(min_samples_leaf =1 , max_depth = 8, n_estimators = 100,\n",
        "                                  random_state=1234)\n",
        "rf_model.fit(df_train_x, df_train_y)\n",
        "\n",
        "# train 정확도\n",
        "train_accuracy.append(rf_model.score(df_train_x, df_train_y))\n",
        "# test 정확도\n",
        "test_accuracy.append(rf_model.score(df_test_x, df_test_y))\n",
        "\n",
        "# 예측값\n",
        "y_pred =rf_model.predict(df_test_x)\n",
        "\n",
        "# roc_auc 계산\n",
        "roc_auc = roc_auc_score(df_test_y, y_pred)\n",
        "#auc 저장\n",
        "model_auc.append(roc_auc)\n",
        "# f1 스코어\n",
        "model_f1_score.append(f1_score(df_test_y, y_pred))"
      ],
      "id": "extraordinary-telescope",
      "execution_count": null,
      "outputs": []
    },
    {
      "cell_type": "markdown",
      "metadata": {
        "id": "assisted-interval"
      },
      "source": [
        "## 그래디언트 부스팅 모델"
      ],
      "id": "assisted-interval"
    },
    {
      "cell_type": "code",
      "metadata": {
        "id": "official-species"
      },
      "source": [
        "# 모델 생성\n",
        "gb_final = GradientBoostingClassifier(min_samples_leaf=5 , max_depth = 6, n_estimators = 200,\n",
        "                                  learning_rate=0.3 ,random_state=1234)\n",
        "gb_final.fit(df_train_x, df_train_y)\n",
        "\n",
        "# train 정확도\n",
        "train_accuracy.append(gb_final.score(df_train_x, df_train_y))\n",
        "# test 정확도\n",
        "test_accuracy.append(gb_final.score(df_test_x, df_test_y))\n",
        "\n",
        "# 예측값\n",
        "y_pred =gb_final.predict(df_test_x)\n",
        "\n",
        "# roc_auc 계산\n",
        "roc_auc = roc_auc_score(df_test_y, y_pred)\n",
        "# auc 저장\n",
        "model_auc.append(roc_auc)\n",
        "# f1 스코어\n",
        "model_f1_score.append(f1_score(df_test_y, y_pred))"
      ],
      "id": "official-species",
      "execution_count": null,
      "outputs": []
    },
    {
      "cell_type": "markdown",
      "metadata": {
        "id": "standard-adolescent"
      },
      "source": [
        "## XG 부스팅 모델"
      ],
      "id": "standard-adolescent"
    },
    {
      "cell_type": "code",
      "metadata": {
        "id": "focal-columbia",
        "outputId": "cbea1c0a-88ee-41cc-bc7a-d45be3ea3d5c"
      },
      "source": [
        "# 모델 생성\n",
        "xgb_final = xgb.XGBClassifier(learning_rate = 0.3, booster = 'gbtree', max_depth = 5, \n",
        "                          n_estimators = 150, gamma = 0, objective = 'binary:logistic',random_state=1234)\n",
        "xgb_final.fit(df_train_x, df_train_y)\n",
        "\n",
        "# train 정확도\n",
        "train_accuracy.append(xgb_final.score(df_train_x, df_train_y))\n",
        "# test 정확도\n",
        "test_accuracy.append(xgb_final.score(df_test_x, df_test_y))\n",
        "\n",
        "# 예측값\n",
        "y_pred =xgb_final.predict(df_test_x)\n",
        "\n",
        "# roc_auc 계산\n",
        "roc_auc = roc_auc_score(df_test_y, y_pred)\n",
        "# auc 저장\n",
        "model_auc.append(roc_auc)\n",
        "# f1 스코어\n",
        "model_f1_score.append(f1_score(df_test_y, y_pred))"
      ],
      "id": "focal-columbia",
      "execution_count": null,
      "outputs": [
        {
          "name": "stderr",
          "output_type": "stream",
          "text": [
            "/home/ubuntu/anaconda3/lib/python3.7/site-packages/xgboost/sklearn.py:1146: UserWarning: The use of label encoder in XGBClassifier is deprecated and will be removed in a future release. To remove this warning, do the following: 1) Pass option use_label_encoder=False when constructing XGBClassifier object; and 2) Encode your labels (y) as integers starting with 0, i.e. 0, 1, 2, ..., [num_class - 1].\n",
            "  warnings.warn(label_encoder_deprecation_msg, UserWarning)\n"
          ]
        },
        {
          "name": "stdout",
          "output_type": "stream",
          "text": [
            "[17:53:19] WARNING: ../src/learner.cc:1095: Starting in XGBoost 1.3.0, the default evaluation metric used with the objective 'binary:logistic' was changed from 'error' to 'logloss'. Explicitly set eval_metric if you'd like to restore the old behavior.\n"
          ]
        }
      ]
    },
    {
      "cell_type": "code",
      "metadata": {
        "id": "bearing-cable",
        "outputId": "9c1725f9-12c5-44ab-80b4-383c733ddd87"
      },
      "source": [
        "model"
      ],
      "id": "bearing-cable",
      "execution_count": null,
      "outputs": [
        {
          "data": {
            "text/plain": [
              "['DecisionTree', 'RandomForest', 'GradientBoosting', 'XGboost']"
            ]
          },
          "execution_count": 13,
          "metadata": {},
          "output_type": "execute_result"
        }
      ]
    },
    {
      "cell_type": "markdown",
      "metadata": {
        "id": "D6fGsIc53oDq"
      },
      "source": [
        ""
      ],
      "id": "D6fGsIc53oDq"
    },
    {
      "cell_type": "code",
      "metadata": {
        "id": "wireless-guest",
        "outputId": "65eba3bb-f23c-4482-b4f7-8a61e65a3f83"
      },
      "source": [
        "# 모델별 정확도 표\n",
        "df_eval = pd.DataFrame(index=model)\n",
        "df_eval[\"TrainAccuracy\"] = train_accuracy\n",
        "df_eval[\"TestAccuracy\"] = test_accuracy\n",
        "df_eval[\"F1Score\"] = model_f1_score\n",
        "df_eval[\"AUC\"] = model_auc\n",
        "\n",
        "df_eval.round(3)"
      ],
      "id": "wireless-guest",
      "execution_count": null,
      "outputs": [
        {
          "data": {
            "text/html": [
              "<div>\n",
              "<style scoped>\n",
              "    .dataframe tbody tr th:only-of-type {\n",
              "        vertical-align: middle;\n",
              "    }\n",
              "\n",
              "    .dataframe tbody tr th {\n",
              "        vertical-align: top;\n",
              "    }\n",
              "\n",
              "    .dataframe thead th {\n",
              "        text-align: right;\n",
              "    }\n",
              "</style>\n",
              "<table border=\"1\" class=\"dataframe\">\n",
              "  <thead>\n",
              "    <tr style=\"text-align: right;\">\n",
              "      <th></th>\n",
              "      <th>TrainAccuracy</th>\n",
              "      <th>TestAccuracy</th>\n",
              "      <th>F1Score</th>\n",
              "      <th>AUC</th>\n",
              "    </tr>\n",
              "  </thead>\n",
              "  <tbody>\n",
              "    <tr>\n",
              "      <th>DecisionTree</th>\n",
              "      <td>0.930</td>\n",
              "      <td>0.925</td>\n",
              "      <td>0.364</td>\n",
              "      <td>0.613</td>\n",
              "    </tr>\n",
              "    <tr>\n",
              "      <th>RandomForest</th>\n",
              "      <td>0.949</td>\n",
              "      <td>0.936</td>\n",
              "      <td>0.471</td>\n",
              "      <td>0.654</td>\n",
              "    </tr>\n",
              "    <tr>\n",
              "      <th>GradientBoosting</th>\n",
              "      <td>1.000</td>\n",
              "      <td>0.948</td>\n",
              "      <td>0.609</td>\n",
              "      <td>0.721</td>\n",
              "    </tr>\n",
              "    <tr>\n",
              "      <th>XGboost</th>\n",
              "      <td>1.000</td>\n",
              "      <td>0.943</td>\n",
              "      <td>0.579</td>\n",
              "      <td>0.710</td>\n",
              "    </tr>\n",
              "  </tbody>\n",
              "</table>\n",
              "</div>"
            ],
            "text/plain": [
              "                  TrainAccuracy  TestAccuracy  F1Score    AUC\n",
              "DecisionTree              0.930         0.925    0.364  0.613\n",
              "RandomForest              0.949         0.936    0.471  0.654\n",
              "GradientBoosting          1.000         0.948    0.609  0.721\n",
              "XGboost                   1.000         0.943    0.579  0.710"
            ]
          },
          "execution_count": 14,
          "metadata": {},
          "output_type": "execute_result"
        }
      ]
    },
    {
      "cell_type": "code",
      "metadata": {
        "id": "conditional-produce",
        "outputId": "48c15b4d-50c9-4b47-de33-3a80c5079066"
      },
      "source": [
        "# 정확도 bar plot 생성\n",
        "df_eval.plot.bar(rot=0)\n",
        "plt.legend(loc=\"lower right\")\n",
        "plt.grid(axis = \"y\")"
      ],
      "id": "conditional-produce",
      "execution_count": null,
      "outputs": [
        {
          "data": {
            "image/png": "[encoded data removed]",
            "text/plain": [
              "<Figure size 432x288 with 1 Axes>"
            ]
          },
          "metadata": {
            "needs_background": "light"
          },
          "output_type": "display_data"
        }
      ]
    }
  ]
}